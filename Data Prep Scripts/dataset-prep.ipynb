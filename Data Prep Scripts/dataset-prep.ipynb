{
 "cells": [
  {
   "cell_type": "code",
   "execution_count": 1,
   "id": "016d8482-d9fc-4a64-87cc-a4219bff20fb",
   "metadata": {},
   "outputs": [],
   "source": [
    "import numpy as np\n",
    "import pandas as pd\n",
    "import os\n",
    "import shutil"
   ]
  },
  {
   "cell_type": "code",
   "execution_count": 30,
   "id": "43badb3b-9466-4429-8ea6-d53f5b5673b7",
   "metadata": {},
   "outputs": [],
   "source": [
    "path = './/Dataset'\n",
    "dir_list = os.listdir(path)\n",
    "\n",
    "filt_list = []\n",
    "\n",
    "for i in dir_list:\n",
    "    filt_list.append(path + '//' + i)"
   ]
  },
  {
   "cell_type": "code",
   "execution_count": 32,
   "id": "5f4a4f46-3c41-430d-8dd0-cd60eb6dfa37",
   "metadata": {},
   "outputs": [],
   "source": [
    "for folder_path in filt_list:\n",
    "    directory = os.listdir(folder_path)\n",
    "    for i in directory:\n",
    "        raw_dir = os.listdir(folder_path + '//' + i + '//RAW')\n",
    "        cnt = sum(['anon_sag_66' in i for i in raw_dir])\n",
    "        tgt_dir = 'dataset1//' + i\n",
    "        os.mkdir(tgt_dir)\n",
    "        t = []\n",
    "        fsl_seg_dir = folder_path + '//' + i + '//' + 'FSL_SEG'\n",
    "        x1 = os.listdir(fsl_seg_dir)\n",
    "        t.append(([fsl_seg_dir + '//' + i for i in x1 if i.endswith('fseg_tra_90.gif')][0], i + '_MASKED_GFC_FSEG_TRA_90.gif'))\n",
    "        subj_dir = folder_path + '//' + i + '//' + 'PROCESSED//MPRAGE//SUBJ_111'\n",
    "        x2 = os.listdir(subj_dir)\n",
    "        t.append(([subj_dir + '//' + i for i in x2 if i.endswith('sbj_111_sag_88.gif')][0], i + '_SBJ_SAG_88.gif'))\n",
    "        t88_dir = folder_path + '//' + i + '//' + 'PROCESSED//MPRAGE//T88_111'\n",
    "        x3 = os.listdir(t88_dir)\n",
    "        t.append(([t88_dir + '//' + i for i in x3 if i.endswith('t88_gfc_cor_110.gif')][0], i + '_T88_GFC_COR_110.gif'))\n",
    "        t.append(([t88_dir + '//' + i for i in x3 if i.endswith('t88_gfc_sag_95.gif')][0], i + '_T88_GFC_SAG_95.gif'))\n",
    "        t.append(([t88_dir + '//' + i for i in x3 if i.endswith('t88_gfc_tra_90.gif')][0], i + '_T88_GFC_TRA_90.gif'))\n",
    "        t.append(([t88_dir + '//' + i for i in x3 if i.endswith('t88_masked_gfc_tra_90.gif')][0], i + '_T88_MASKED_GFC_TRA_90.gif'))\n",
    "        \n",
    "        # t.append(folder_path + '//' + i + '//' + f'FSL_SEG//{i}_mpr_n{cnt}_anon_111_t88_masked_gfc_fseg_tra_90.gif')\n",
    "        # t.append(folder_path + '//' + i + '//' + f'PROCESSED//MPRAGE//SUBJ_111//{i}_mpr_n{cnt}_anon_sbj_111_sag_88.gif')\n",
    "        # t.append(folder_path + '//' + i + '//' + f'PROCESSED//MPRAGE//T88_111//{i}_mpr_n{cnt}_anon_111_t88_gfc_cor_110.gif')\n",
    "        # t.append(folder_path + '//' + i + '//' + f'PROCESSED//MPRAGE//T88_111//{i}_mpr_n{cnt}_anon_111_t88_gfc_sag_95.gif')\n",
    "        # t.append(folder_path + '//' + i + '//' + f'PROCESSED//MPRAGE//T88_111//{i}_mpr_n{cnt}_anon_111_t88_gfc_tra_90.gif')\n",
    "        # t.append(folder_path + '//' + i + '//' + f'PROCESSED//MPRAGE//T88_111//{i}_mpr_n{cnt}_anon_111_t88_masked_gfc_tra_90.gif')\n",
    "        \n",
    "        for j in t:\n",
    "            shutil.copy2(j[0], tgt_dir + '//' + j[1])"
   ]
  },
  {
   "cell_type": "code",
   "execution_count": 7,
   "id": "16444905-13e7-466f-9494-bb8715d5583e",
   "metadata": {},
   "outputs": [],
   "source": [
    "path = './/dataset_3D'\n",
    "dir_list = os.listdir(path)\n",
    "\n",
    "filt_list = []\n",
    "\n",
    "for i in dir_list:\n",
    "    filt_list.append(i)"
   ]
  },
  {
   "cell_type": "code",
   "execution_count": 8,
   "id": "03acb7be-d9b0-4c74-83e2-67d25d4513e2",
   "metadata": {},
   "outputs": [
    {
     "data": {
      "text/plain": [
       "'OAS1_0001_MR1_MASKED_GFC_FSEG.npz'"
      ]
     },
     "execution_count": 8,
     "metadata": {},
     "output_type": "execute_result"
    }
   ],
   "source": [
    "filt_list[0]"
   ]
  },
  {
   "cell_type": "code",
   "execution_count": 9,
   "id": "0f7b32e5-2d1b-4486-aa3c-632b88007f53",
   "metadata": {},
   "outputs": [],
   "source": [
    "tgt_dir = 'dataset_partial_3D'\n",
    "\n",
    "for i in filt_list:\n",
    "    if 'T88_111' in i:\n",
    "        di = path + '//' + i\n",
    "        shutil.copy2(di, tgt_dir + '//' + i)"
   ]
  },
  {
   "cell_type": "code",
   "execution_count": null,
   "id": "11caf86e-b37e-407d-a242-68aeaa02b0c0",
   "metadata": {},
   "outputs": [],
   "source": []
  }
 ],
 "metadata": {
  "kernelspec": {
   "display_name": "Python 3 (ipykernel)",
   "language": "python",
   "name": "python3"
  },
  "language_info": {
   "codemirror_mode": {
    "name": "ipython",
    "version": 3
   },
   "file_extension": ".py",
   "mimetype": "text/x-python",
   "name": "python",
   "nbconvert_exporter": "python",
   "pygments_lexer": "ipython3",
   "version": "3.10.6"
  }
 },
 "nbformat": 4,
 "nbformat_minor": 5
}
