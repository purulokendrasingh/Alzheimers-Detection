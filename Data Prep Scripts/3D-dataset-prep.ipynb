{
 "cells": [
  {
   "cell_type": "code",
   "execution_count": 1,
   "id": "016d8482-d9fc-4a64-87cc-a4219bff20fb",
   "metadata": {},
   "outputs": [],
   "source": [
    "import numpy as np\n",
    "import pandas as pd\n",
    "import os\n",
    "import shutil\n",
    "import nibabel as nib\n",
    "import pickle\n",
    "from scipy.ndimage import zoom"
   ]
  },
  {
   "cell_type": "code",
   "execution_count": 2,
   "id": "43badb3b-9466-4429-8ea6-d53f5b5673b7",
   "metadata": {},
   "outputs": [],
   "source": [
    "path = './/Dataset'\n",
    "dir_list = os.listdir(path)\n",
    "\n",
    "filt_list = []\n",
    "\n",
    "for i in dir_list:\n",
    "    filt_list.append(path + '//' + i)"
   ]
  },
  {
   "cell_type": "code",
   "execution_count": 3,
   "id": "be6f22da-849e-4a1a-9ad5-734695b72da1",
   "metadata": {},
   "outputs": [],
   "source": [
    "class Data:\n",
    "    def __init__(self, tag):\n",
    "        self.id = tag\n",
    "        self.MASKED_GFC_FSEG = None\n",
    "        self.SBJ_111 = None\n",
    "        self.T88_111_GFC = None\n",
    "        self.T88_111_MASKED_GFC = None\n",
    "        self.RAW = []\n",
    "        self.sex = None\n",
    "        self.hand = None\n",
    "        self.age = None\n",
    "        self.educ = None\n",
    "        self.SES = None\n",
    "        self.MMSE = None\n",
    "        self.CDR = None\n",
    "        self.eTIV = None\n",
    "        self.nWBV = None\n",
    "        self.ASF = None\n",
    "        self.Delay = None"
   ]
  },
  {
   "cell_type": "code",
   "execution_count": 4,
   "id": "b16a38d3-133b-415d-8dc8-f3421c998890",
   "metadata": {},
   "outputs": [],
   "source": [
    "df = pd.read_csv('oasis_cross-sectional.csv')"
   ]
  },
  {
   "cell_type": "code",
   "execution_count": 5,
   "id": "71d4e6bc-2939-45bd-b7cb-d450360951ba",
   "metadata": {},
   "outputs": [],
   "source": [
    "def save_object(obj, filename):\n",
    "    with open(filename, 'wb') as outp:  # Overwrites any existing file.\n",
    "        pickle.dumps(obj)"
   ]
  },
  {
   "cell_type": "code",
   "execution_count": 6,
   "id": "6c2f6a0a-dbf2-452b-9b45-0f107f428d8a",
   "metadata": {},
   "outputs": [],
   "source": [
    "zoom_size = (0.25, 0.25, 0.25, 1)"
   ]
  },
  {
   "cell_type": "code",
   "execution_count": 7,
   "id": "5f4a4f46-3c41-430d-8dd0-cd60eb6dfa37",
   "metadata": {},
   "outputs": [
    {
     "name": "stdout",
     "output_type": "stream",
     "text": [
      "Completed directory:  ['OAS1_0001_MR1', 'OAS1_0002_MR1', 'OAS1_0003_MR1', 'OAS1_0004_MR1', 'OAS1_0005_MR1', 'OAS1_0006_MR1', 'OAS1_0007_MR1', 'OAS1_0009_MR1', 'OAS1_0010_MR1', 'OAS1_0011_MR1', 'OAS1_0012_MR1', 'OAS1_0013_MR1', 'OAS1_0014_MR1', 'OAS1_0015_MR1', 'OAS1_0016_MR1', 'OAS1_0017_MR1', 'OAS1_0018_MR1', 'OAS1_0019_MR1', 'OAS1_0020_MR1', 'OAS1_0021_MR1', 'OAS1_0022_MR1', 'OAS1_0023_MR1', 'OAS1_0025_MR1', 'OAS1_0026_MR1', 'OAS1_0027_MR1', 'OAS1_0028_MR1', 'OAS1_0029_MR1', 'OAS1_0030_MR1', 'OAS1_0031_MR1', 'OAS1_0032_MR1', 'OAS1_0033_MR1', 'OAS1_0034_MR1', 'OAS1_0035_MR1', 'OAS1_0037_MR1', 'OAS1_0038_MR1', 'OAS1_0039_MR1', 'OAS1_0040_MR1', 'OAS1_0041_MR1', 'OAS1_0042_MR1']\n",
      "Completed directory:  ['OAS1_0349_MR1', 'OAS1_0350_MR1', 'OAS1_0351_MR1', 'OAS1_0352_MR1', 'OAS1_0353_MR1', 'OAS1_0353_MR2', 'OAS1_0354_MR1', 'OAS1_0355_MR1', 'OAS1_0356_MR1', 'OAS1_0357_MR1', 'OAS1_0358_MR1', 'OAS1_0359_MR1', 'OAS1_0361_MR1', 'OAS1_0362_MR1', 'OAS1_0363_MR1', 'OAS1_0365_MR1', 'OAS1_0366_MR1', 'OAS1_0367_MR1', 'OAS1_0368_MR1', 'OAS1_0368_MR2', 'OAS1_0369_MR1', 'OAS1_0370_MR1', 'OAS1_0371_MR1', 'OAS1_0372_MR1', 'OAS1_0373_MR1', 'OAS1_0374_MR1', 'OAS1_0375_MR1', 'OAS1_0376_MR1', 'OAS1_0377_MR1', 'OAS1_0378_MR1', 'OAS1_0379_MR1', 'OAS1_0379_MR2', 'OAS1_0380_MR1', 'OAS1_0381_MR1', 'OAS1_0382_MR1']\n",
      "Completed directory:  ['OAS1_0383_MR1', 'OAS1_0384_MR1', 'OAS1_0385_MR1', 'OAS1_0386_MR1', 'OAS1_0387_MR1', 'OAS1_0388_MR1', 'OAS1_0389_MR1', 'OAS1_0390_MR1', 'OAS1_0392_MR1', 'OAS1_0394_MR1', 'OAS1_0395_MR1', 'OAS1_0395_MR2', 'OAS1_0396_MR1', 'OAS1_0397_MR1', 'OAS1_0398_MR1', 'OAS1_0399_MR1', 'OAS1_0400_MR1', 'OAS1_0401_MR1', 'OAS1_0402_MR1', 'OAS1_0403_MR1', 'OAS1_0404_MR1', 'OAS1_0405_MR1', 'OAS1_0406_MR1', 'OAS1_0407_MR1', 'OAS1_0408_MR1', 'OAS1_0409_MR1', 'OAS1_0410_MR1', 'OAS1_0411_MR1', 'OAS1_0413_MR1', 'OAS1_0415_MR1', 'OAS1_0416_MR1', 'OAS1_0417_MR1', 'OAS1_0418_MR1', 'OAS1_0419_MR1']\n",
      "Completed directory:  ['OAS1_0420_MR1', 'OAS1_0421_MR1', 'OAS1_0422_MR1', 'OAS1_0423_MR1', 'OAS1_0424_MR1', 'OAS1_0425_MR1', 'OAS1_0426_MR1', 'OAS1_0428_MR1', 'OAS1_0429_MR1', 'OAS1_0430_MR1', 'OAS1_0431_MR1', 'OAS1_0432_MR1', 'OAS1_0433_MR1', 'OAS1_0434_MR1', 'OAS1_0435_MR1', 'OAS1_0437_MR1', 'OAS1_0438_MR1', 'OAS1_0439_MR1', 'OAS1_0440_MR1', 'OAS1_0441_MR1', 'OAS1_0442_MR1', 'OAS1_0443_MR1', 'OAS1_0444_MR1', 'OAS1_0445_MR1', 'OAS1_0446_MR1', 'OAS1_0447_MR1', 'OAS1_0448_MR1', 'OAS1_0449_MR1', 'OAS1_0450_MR1', 'OAS1_0451_MR1', 'OAS1_0452_MR1', 'OAS1_0453_MR1', 'OAS1_0454_MR1', 'OAS1_0455_MR1', 'OAS1_0456_MR1', 'OAS1_0457_MR1']\n",
      "Completed directory:  ['OAS1_0043_MR1', 'OAS1_0044_MR1', 'OAS1_0045_MR1', 'OAS1_0046_MR1', 'OAS1_0047_MR1', 'OAS1_0049_MR1', 'OAS1_0050_MR1', 'OAS1_0051_MR1', 'OAS1_0052_MR1', 'OAS1_0053_MR1', 'OAS1_0054_MR1', 'OAS1_0055_MR1', 'OAS1_0056_MR1', 'OAS1_0057_MR1', 'OAS1_0058_MR1', 'OAS1_0059_MR1', 'OAS1_0060_MR1', 'OAS1_0061_MR1', 'OAS1_0061_MR2', 'OAS1_0062_MR1', 'OAS1_0063_MR1', 'OAS1_0064_MR1', 'OAS1_0065_MR1', 'OAS1_0066_MR1', 'OAS1_0067_MR1', 'OAS1_0068_MR1', 'OAS1_0069_MR1', 'OAS1_0070_MR1', 'OAS1_0071_MR1', 'OAS1_0072_MR1', 'OAS1_0073_MR1', 'OAS1_0074_MR1', 'OAS1_0075_MR1', 'OAS1_0076_MR1', 'OAS1_0077_MR1', 'OAS1_0078_MR1', 'OAS1_0079_MR1', 'OAS1_0080_MR1']\n",
      "Completed directory:  ['OAS1_0080_MR2', 'OAS1_0081_MR1', 'OAS1_0082_MR1', 'OAS1_0083_MR1', 'OAS1_0084_MR1', 'OAS1_0085_MR1', 'OAS1_0086_MR1', 'OAS1_0087_MR1', 'OAS1_0088_MR1', 'OAS1_0090_MR1', 'OAS1_0091_MR1', 'OAS1_0092_MR1', 'OAS1_0092_MR2', 'OAS1_0094_MR1', 'OAS1_0095_MR1', 'OAS1_0096_MR1', 'OAS1_0097_MR1', 'OAS1_0098_MR1', 'OAS1_0099_MR1', 'OAS1_0101_MR1', 'OAS1_0101_MR2', 'OAS1_0102_MR1', 'OAS1_0103_MR1', 'OAS1_0104_MR1', 'OAS1_0105_MR1', 'OAS1_0106_MR1', 'OAS1_0107_MR1', 'OAS1_0108_MR1', 'OAS1_0109_MR1', 'OAS1_0110_MR1', 'OAS1_0111_MR1', 'OAS1_0111_MR2', 'OAS1_0112_MR1', 'OAS1_0113_MR1', 'OAS1_0114_MR1', 'OAS1_0115_MR1']\n",
      "Completed directory:  ['OAS1_0116_MR1', 'OAS1_0117_MR1', 'OAS1_0117_MR2', 'OAS1_0119_MR1', 'OAS1_0120_MR1', 'OAS1_0121_MR1', 'OAS1_0122_MR1', 'OAS1_0123_MR1', 'OAS1_0124_MR1', 'OAS1_0125_MR1', 'OAS1_0126_MR1', 'OAS1_0127_MR1', 'OAS1_0129_MR1', 'OAS1_0130_MR1', 'OAS1_0131_MR1', 'OAS1_0132_MR1', 'OAS1_0133_MR1', 'OAS1_0134_MR1', 'OAS1_0135_MR1', 'OAS1_0136_MR1', 'OAS1_0137_MR1', 'OAS1_0138_MR1', 'OAS1_0139_MR1', 'OAS1_0140_MR1', 'OAS1_0141_MR1', 'OAS1_0142_MR1', 'OAS1_0143_MR1', 'OAS1_0144_MR1', 'OAS1_0145_MR1', 'OAS1_0145_MR2', 'OAS1_0146_MR1', 'OAS1_0147_MR1', 'OAS1_0148_MR1', 'OAS1_0150_MR1', 'OAS1_0150_MR2']\n",
      "Completed directory:  ['OAS1_0151_MR1', 'OAS1_0152_MR1', 'OAS1_0153_MR1', 'OAS1_0155_MR1', 'OAS1_0156_MR1', 'OAS1_0156_MR2', 'OAS1_0157_MR1', 'OAS1_0158_MR1', 'OAS1_0159_MR1', 'OAS1_0160_MR1', 'OAS1_0161_MR1', 'OAS1_0162_MR1', 'OAS1_0163_MR1', 'OAS1_0164_MR1', 'OAS1_0165_MR1', 'OAS1_0166_MR1', 'OAS1_0167_MR1', 'OAS1_0168_MR1', 'OAS1_0169_MR1', 'OAS1_0170_MR1', 'OAS1_0173_MR1', 'OAS1_0174_MR1', 'OAS1_0176_MR1', 'OAS1_0177_MR1', 'OAS1_0178_MR1', 'OAS1_0179_MR1', 'OAS1_0180_MR1', 'OAS1_0181_MR1', 'OAS1_0182_MR1', 'OAS1_0183_MR1', 'OAS1_0184_MR1', 'OAS1_0185_MR1', 'OAS1_0186_MR1', 'OAS1_0188_MR1', 'OAS1_0189_MR1', 'OAS1_0190_MR1', 'OAS1_0191_MR1', 'OAS1_0191_MR2']\n",
      "Completed directory:  ['OAS1_0192_MR1', 'OAS1_0193_MR1', 'OAS1_0195_MR1', 'OAS1_0197_MR1', 'OAS1_0198_MR1', 'OAS1_0199_MR1', 'OAS1_0200_MR1', 'OAS1_0201_MR1', 'OAS1_0202_MR1', 'OAS1_0202_MR2', 'OAS1_0203_MR1', 'OAS1_0204_MR1', 'OAS1_0205_MR1', 'OAS1_0206_MR1', 'OAS1_0207_MR1', 'OAS1_0208_MR1', 'OAS1_0209_MR1', 'OAS1_0210_MR1', 'OAS1_0211_MR1', 'OAS1_0212_MR1', 'OAS1_0213_MR1', 'OAS1_0214_MR1', 'OAS1_0216_MR1', 'OAS1_0217_MR1', 'OAS1_0218_MR1', 'OAS1_0220_MR1', 'OAS1_0221_MR1', 'OAS1_0222_MR1', 'OAS1_0223_MR1', 'OAS1_0224_MR1', 'OAS1_0226_MR1', 'OAS1_0227_MR1', 'OAS1_0228_MR1', 'OAS1_0229_MR1', 'OAS1_0230_MR1', 'OAS1_0230_MR2', 'OAS1_0231_MR1']\n",
      "Completed directory:  ['OAS1_0232_MR1', 'OAS1_0233_MR1', 'OAS1_0234_MR1', 'OAS1_0235_MR1', 'OAS1_0236_MR1', 'OAS1_0236_MR2', 'OAS1_0237_MR1', 'OAS1_0238_MR1', 'OAS1_0239_MR1', 'OAS1_0239_MR2', 'OAS1_0240_MR1', 'OAS1_0241_MR1', 'OAS1_0243_MR1', 'OAS1_0244_MR1', 'OAS1_0246_MR1', 'OAS1_0247_MR1', 'OAS1_0249_MR1', 'OAS1_0249_MR2', 'OAS1_0250_MR1', 'OAS1_0253_MR1', 'OAS1_0254_MR1', 'OAS1_0255_MR1', 'OAS1_0256_MR1', 'OAS1_0258_MR1', 'OAS1_0259_MR1', 'OAS1_0260_MR1', 'OAS1_0261_MR1', 'OAS1_0262_MR1', 'OAS1_0263_MR1', 'OAS1_0264_MR1', 'OAS1_0265_MR1', 'OAS1_0266_MR1', 'OAS1_0267_MR1', 'OAS1_0268_MR1', 'OAS1_0269_MR1', 'OAS1_0270_MR1', 'OAS1_0271_MR1', 'OAS1_0272_MR1']\n",
      "Completed directory:  ['OAS1_0273_MR1', 'OAS1_0274_MR1', 'OAS1_0275_MR1', 'OAS1_0277_MR1', 'OAS1_0278_MR1', 'OAS1_0279_MR1', 'OAS1_0280_MR1', 'OAS1_0281_MR1', 'OAS1_0282_MR1', 'OAS1_0283_MR1', 'OAS1_0284_MR1', 'OAS1_0285_MR1', 'OAS1_0285_MR2', 'OAS1_0286_MR1', 'OAS1_0287_MR1', 'OAS1_0288_MR1', 'OAS1_0289_MR1', 'OAS1_0290_MR1', 'OAS1_0291_MR1', 'OAS1_0292_MR1', 'OAS1_0293_MR1', 'OAS1_0294_MR1', 'OAS1_0295_MR1', 'OAS1_0296_MR1', 'OAS1_0298_MR1', 'OAS1_0299_MR1', 'OAS1_0300_MR1', 'OAS1_0301_MR1', 'OAS1_0302_MR1', 'OAS1_0303_MR1', 'OAS1_0304_MR1', 'OAS1_0305_MR1', 'OAS1_0307_MR1', 'OAS1_0308_MR1', 'OAS1_0309_MR1']\n",
      "Completed directory:  ['OAS1_0310_MR1', 'OAS1_0311_MR1', 'OAS1_0312_MR1', 'OAS1_0313_MR1', 'OAS1_0314_MR1', 'OAS1_0315_MR1', 'OAS1_0316_MR1', 'OAS1_0317_MR1', 'OAS1_0318_MR1', 'OAS1_0319_MR1', 'OAS1_0321_MR1', 'OAS1_0322_MR1', 'OAS1_0323_MR1', 'OAS1_0325_MR1', 'OAS1_0326_MR1', 'OAS1_0327_MR1', 'OAS1_0328_MR1', 'OAS1_0329_MR1', 'OAS1_0330_MR1', 'OAS1_0331_MR1', 'OAS1_0332_MR1', 'OAS1_0333_MR1', 'OAS1_0335_MR1', 'OAS1_0336_MR1', 'OAS1_0337_MR1', 'OAS1_0338_MR1', 'OAS1_0339_MR1', 'OAS1_0340_MR1', 'OAS1_0341_MR1', 'OAS1_0342_MR1', 'OAS1_0343_MR1', 'OAS1_0344_MR1', 'OAS1_0345_MR1', 'OAS1_0346_MR1', 'OAS1_0348_MR1']\n"
     ]
    }
   ],
   "source": [
    "for folder_path in filt_list:\n",
    "    directory = os.listdir(folder_path)\n",
    "    for i in directory:\n",
    "        obj = Data(i)\n",
    "        raw_dir = os.listdir(folder_path + '//' + i + '//RAW')\n",
    "        raw_files = [j for j in raw_dir if j.endswith('.img')]\n",
    "        for raw in raw_files:\n",
    "            img = nib.load(folder_path + '//' + i + '//RAW//' + raw)\n",
    "            obj.RAW.append(np.array(img.get_fdata())) #Incase reshaping required we can do it here itself\n",
    "            \n",
    "        fsl_seg_dir = os.listdir(folder_path + '//' + i  + '//FSL_SEG')\n",
    "        fsl_seg_file = [j for j in fsl_seg_dir if j.endswith('.img')][0]\n",
    "        img = nib.load(folder_path + '//' + i  + '//FSL_SEG//' + fsl_seg_file)\n",
    "        obj.MASKED_GFC_FSEG = np.array(img.get_fdata())\n",
    "        \n",
    "        subj_dir = os.listdir(folder_path + '//' + i + '//' + 'PROCESSED//MPRAGE//SUBJ_111')\n",
    "        subj_file = [j for j in subj_dir if j.endswith('.img')][0]\n",
    "        img = nib.load(folder_path + '//' + i + '//' + 'PROCESSED//MPRAGE//SUBJ_111//' + subj_file)\n",
    "        obj.SBJ_111 = np.array(img.get_fdata())\n",
    "        \n",
    "        t88_dir = os.listdir(folder_path + '//' + i + '//' + 'PROCESSED//MPRAGE//T88_111')\n",
    "        \n",
    "        t88_gfc_file = [j for j in t88_dir if j.endswith('t88_gfc.img')][0]\n",
    "        img = nib.load(folder_path + '//' + i + '//' + 'PROCESSED//MPRAGE//T88_111//' + t88_gfc_file)\n",
    "        obj.T88_111_GFC = zoom(img.get_fdata(dtype = 'float32'), zoom_size)\n",
    "        \n",
    "        t88_masked_gfc_file = [j for j in t88_dir if j.endswith('t88_masked_gfc.img')][0]\n",
    "        img = nib.load(folder_path + '//' + i + '//' + 'PROCESSED//MPRAGE//T88_111//' + t88_masked_gfc_file)\n",
    "        obj.T88_111_MASKED_GFC = zoom(img.get_fdata(dtype = 'float32'), zoom_size)\n",
    "        \n",
    "        row = df[df.ID == i].iloc[0]\n",
    "        obj.sex = row['M/F']\n",
    "        obj.hand = row['Hand']\n",
    "        obj.age = row['Age']\n",
    "        obj.educ = row['Educ']\n",
    "        obj.SES = row['SES']\n",
    "        obj.MMSE = row['MMSE']\n",
    "        obj.CDR = row['CDR']\n",
    "        obj.eTIV = row['eTIV']\n",
    "        obj.nWBV = row['nWBV']\n",
    "        obj.ASF = row['ASF']\n",
    "        obj.Delay = row['Delay']\n",
    "        \n",
    "        save_object(obj, './/data_objects//' + i + '.pkl')\n",
    "        cdr = obj.CDR if obj.CDR > 0 else 0\n",
    "        # cnt = 1\n",
    "        dPath = './/dataset_3D//'\n",
    "        for arr in obj.RAW:\n",
    "            np.savez_compressed(dPath + f\"{i}_RAW_{cnt}.npz\", buffer = arr, label = cdr)\n",
    "            cnt += 1\n",
    "        np.savez_compressed(dPath + f\"{i}_MASKED_GFC_FSEG.npz\", buffer = obj.MASKED_GFC_FSEG, label = cdr)\n",
    "        np.savez_compressed(dPath + f\"{i}_SBJ_111.npz\", buffer = obj.SBJ_111, label = cdr)\n",
    "        np.savez_compressed(dPath + f\"{i}_T88_111_GFC.npz\", buffer = obj.T88_111_GFC, label = cdr)\n",
    "        np.savez_compressed(dPath + f\"{i}_T88_111_MASKED_GFC.npz\", buffer = obj.T88_111_MASKED_GFC, label = cdr)\n",
    "    print('Completed directory: ', directory)"
   ]
  },
  {
   "cell_type": "code",
   "execution_count": null,
   "id": "03e09b37-648d-4243-bcb8-36fd30b2f50d",
   "metadata": {},
   "outputs": [],
   "source": []
  }
 ],
 "metadata": {
  "kernelspec": {
   "display_name": "Python 3 (ipykernel)",
   "language": "python",
   "name": "python3"
  },
  "language_info": {
   "codemirror_mode": {
    "name": "ipython",
    "version": 3
   },
   "file_extension": ".py",
   "mimetype": "text/x-python",
   "name": "python",
   "nbconvert_exporter": "python",
   "pygments_lexer": "ipython3",
   "version": "3.10.6"
  }
 },
 "nbformat": 4,
 "nbformat_minor": 5
}
